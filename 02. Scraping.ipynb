{
 "cells": [
  {
   "cell_type": "markdown",
   "metadata": {},
   "source": [
    "The internet is filled with content, primarily not intended for digital humanities research. This notebook illustrates the  possibilities of fetching such data automatically, by opening many web pages automatically.\n",
    "\n",
    "It uses selenium and phantomjs. The former is a python library to do navigate the web programatically, the latter is a browser that does not open window, but can load webpages.\n",
    "\n",
    "Lets *steal* some code of others and het started."
   ]
  },
  {
   "cell_type": "code",
   "execution_count": null,
   "metadata": {},
   "outputs": [],
   "source": [
    "from selenium import webdriver\n",
    "from selenium.webdriver.common.desired_capabilities import DesiredCapabilities\n",
    "from jupyter_progressbar import ProgressBar\n",
    "from IPython.display import Image, display\n",
    "\n",
    "import random"
   ]
  },
  {
   "cell_type": "markdown",
   "metadata": {},
   "source": [
    "The first thing we do is creating a browser object, it will have functionality to navigate to URLs using the get-method and extracting certain content.\n",
    "\n",
    "Content extraction is done using CSS selectors, which query the HTML. For example:\n",
    "\n",
    " * **table a** finds all links (a) that are embedded in a table.\n",
    " * **table td > a** does the same, but only for links that a direct child of a table cell.\n",
    "\n",
    "You'll see this in action a bit further.\n",
    "\n",
    "Run the cell."
   ]
  },
  {
   "cell_type": "code",
   "execution_count": null,
   "metadata": {},
   "outputs": [],
   "source": [
    "url = 'http://www.lovepoemsandquotes.com/LovePoems.html'\n",
    "\n",
    "browser = webdriver.PhantomJS()\n",
    "browser.get(url)\n",
    "\n",
    "browser.save_screenshot('screenshot.png')\n",
    "display(Image(filename='screenshot.png'))\n",
    "\n",
    "browser.close()\n",
    "browser.quit()"
   ]
  },
  {
   "cell_type": "markdown",
   "metadata": {},
   "source": [
    "You took a screenshot of a webpage, nice.\n",
    "\n",
    "The webpage is messy, but contains love poems, which we're going to download. The code below fetches all the links.\n",
    "\n",
    "Since the webpage has a lot of irrelevant links, only the links wich start with **http://www.lovepoemsandquotes.com/LovePoem** are appended to the list. This syntax, using **if**, was not discussed, basically the append is only executed if the **startswith**-condition is met.\n",
    "\n",
    "The code will fail, fix the errorby intializing links with an empty list. Then run."
   ]
  },
  {
   "cell_type": "code",
   "execution_count": null,
   "metadata": {},
   "outputs": [],
   "source": [
    "url = 'http://www.lovepoemsandquotes.com/LovePoems.html'\n",
    "\n",
    "browser = webdriver.PhantomJS()\n",
    "browser.get(url)\n",
    "\n",
    "# fix this code by initializing links here\n",
    "\n",
    "\n",
    "for link in browser.find_elements_by_css_selector(\"table .vstxt a\"):\n",
    "    url = link.get_attribute('href')\n",
    "\n",
    "    if url.startswith('http://www.lovepoemsandquotes.com/LovePoem'):\n",
    "        links.append(url)\n",
    "\n",
    "browser.close()\n",
    "browser.quit()"
   ]
  },
  {
   "cell_type": "markdown",
   "metadata": {},
   "source": [
    "Let's list some random links, say 5% of them. Notice that we use enumerate, which was briefly mentioned.\n",
    "\n",
    "Enumerate does not just iterate over the elements of links, but also attaches a number starting at $1$ in this case. Normally computers start counting at $0$ because they are wierd.\n",
    "\n",
    "random.random() returns a random number between 0 and 1, which will be smaller than $0.05$ in 5% of the cases"
   ]
  },
  {
   "cell_type": "code",
   "execution_count": null,
   "metadata": {},
   "outputs": [],
   "source": [
    "for i, link in enumerate(links, start=1):\n",
    "    if random.random() < 0.05:\n",
    "        print(\"Link number\", i, \"is\", link)"
   ]
  },
  {
   "cell_type": "markdown",
   "metadata": {},
   "source": [
    "Now fill in 2 lines of code to show a screenshot of the sixth link, call it link6.png\n",
    "\n",
    "Hint: You can copy-paste from above"
   ]
  },
  {
   "cell_type": "code",
   "execution_count": null,
   "metadata": {
    "scrolled": true
   },
   "outputs": [],
   "source": [
    "browser = webdriver.PhantomJS()\n",
    "browser.get(links[5])\n",
    "\n",
    "# Show a screenshot of the opened page, 2 lines of code\n",
    "# Hint, if you name the file something else as screenshot.png, the previous screenshot won't be overwritten.\n",
    "\n",
    "\n",
    "\n",
    "\n",
    "browser.close()\n",
    "browser.quit()"
   ]
  },
  {
   "cell_type": "markdown",
   "metadata": {},
   "source": [
    "Now let's scrape all the poems, this takes about 15 minutes.\n",
    "\n",
    "Note the undiscussed **try-catch** syntax, this simply tells Python to print and ignore errors if occuring, and then continue. This is handy if you scrape the web, webpages might be inconsistent or links may be broken. This way, you still get the rest of the poems."
   ]
  },
  {
   "cell_type": "code",
   "execution_count": null,
   "metadata": {},
   "outputs": [],
   "source": [
    "browser = webdriver.PhantomJS()\n",
    "\n",
    "with open('poems.txt', 'w') as poem_file:\n",
    "    for link in ProgressBar(links):\n",
    "        try:\n",
    "            browser.get(link)\n",
    "            poem_text = browser.find_elements_by_css_selector('.stxt')[1].text\n",
    "        except Exception as e:\n",
    "            print(\"Exception occured,\", e)\n",
    "            pass\n",
    "        \n",
    "        poem_file.write(poem_text)\n",
    "        poem_file.write('\\n')\n",
    "\n",
    "browser.close()\n",
    "browser.quit()"
   ]
  },
  {
   "cell_type": "markdown",
   "metadata": {},
   "source": [
    "**Go the the first screen, number.digitalhimanities.risacademy.nl, and open the poems.txt file.**"
   ]
  }
 ],
 "metadata": {
  "kernelspec": {
   "display_name": "Python 3",
   "language": "python",
   "name": "python3"
  },
  "language_info": {
   "codemirror_mode": {
    "name": "ipython",
    "version": 3
   },
   "file_extension": ".py",
   "mimetype": "text/x-python",
   "name": "python",
   "nbconvert_exporter": "python",
   "pygments_lexer": "ipython3",
   "version": "3.4.3"
  }
 },
 "nbformat": 4,
 "nbformat_minor": 1
}
