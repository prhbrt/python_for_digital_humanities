{
 "cells": [
  {
   "cell_type": "markdown",
   "metadata": {},
   "source": [
    "In this exercise you'll download a youtube video's audio, convert it to the WAV format, and then use the Google Cloud API to transcribe it's content\n",
    "\n",
    "The lines below import some libraries that make this quite simple. Summerized they are:\n",
    "\n",
    " * **pafy**, a library to download youtube video and audio.\n",
    " * **pydub**, a library to convert audio, for example from mp3 to wav.\n",
    " * **google api**, contains a lot of stuff, in particular audio transcription using the speech API. The neast thing is that this is actually done on a Google server, you send it audio and get a transcription back.  This way Google can improve their machine learning algorithms and serve this to you.\n",
    "\n",
    "\n",
    "Select the 'cell' below and press CTRL+ENTER or SHIFT+ENTER to run the code inside it."
   ]
  },
  {
   "cell_type": "code",
   "execution_count": 1,
   "metadata": {},
   "outputs": [],
   "source": [
    "import os\n",
    "import io\n",
    "os.environ['GOOGLE_APPLICATION_CREDENTIALS'] = 'credentials.json'\n",
    "\n",
    "import pafy\n",
    "from pydub import AudioSegment\n",
    "\n",
    "from google.cloud import speech\n",
    "from google.cloud.speech import enums\n",
    "from google.cloud.speech import types\n",
    "\n",
    "from googleapiclient import discovery"
   ]
  },
  {
   "cell_type": "markdown",
   "metadata": {},
   "source": [
    "First use `pafy` to get some information of a video.\n",
    "\n",
    "Run the cell."
   ]
  },
  {
   "cell_type": "code",
   "execution_count": 2,
   "metadata": {},
   "outputs": [
    {
     "name": "stdout",
     "output_type": "stream",
     "text": [
      "Url: https://www.youtube.com/watch?v=lWWKBY7gx_0\n",
      "Title: Le Grand Content\n",
      "Author: enlarge\n",
      "Description: A Film by Clemens Kogler together with Karo Szmit. Voice by Andre Tschinder.\r\n",
      "\r\n",
      "Le Grand Content examines the omnipresent Powerpoint-culture in search for its philosophical potential. Intersections and diagrams are assembled to form a grand 'association-chain-massacre'. which challenges itself to answer all questions of the universe and some more. Of course, it totally fails this assignment, but in its failure it still manages to produce some magical nuance and shades between the great topics death, cable tv, emotions and hamsters.\r\n",
      "\r\n",
      "For more Information:\r\n",
      "http://www.clemenskogler.net/grandcontent\n",
      "Length: 238\n"
     ]
    }
   ],
   "source": [
    "url = 'https://www.youtube.com/watch?v=lWWKBY7gx_0'\n",
    "\n",
    "video = pafy.new(url)\n",
    "\n",
    "print(\"Url:\", url)\n",
    "print(\"Title:\", video.title)\n",
    "print(\"Author:\", video.author)\n",
    "print(\"Description:\", video.description)\n",
    "print(\"Length:\", video.length)"
   ]
  },
  {
   "cell_type": "markdown",
   "metadata": {},
   "source": [
    "Now let's actually download the vide and save it. The first line gets the best audio format form the existing ones, as youtube provides multiple formats and encodings of video and audio.\n",
    "\n",
    "The second line downloads the file to `audio.webm`.\n",
    "\n",
    "Run the cell"
   ]
  },
  {
   "cell_type": "code",
   "execution_count": 3,
   "metadata": {},
   "outputs": [
    {
     "name": "stdout",
     "output_type": "stream",
     "text": [
      "Filename: audio.webm00.00%] received. Rate: [2381 KB/s].  ETA: [0 secs]    \n"
     ]
    }
   ],
   "source": [
    "audio = video.getbestaudio()\n",
    "\n",
    "filename = audio.download(filepath=\"audio.\" + audio.extension)\n",
    "print(\"Filename:\", filename)"
   ]
  },
  {
   "cell_type": "markdown",
   "metadata": {},
   "source": [
    "Google's api works easier with a WAV file than with a WEBM file (even though webm is their own format). Moreover, theirs a 60 seconds limit on the easy way of doing this. Larger files need the so called `streaming api`, which is a bit harder to use.\n",
    "\n",
    "Let's keep it simple. The recipe below is, line by line:\n",
    "\n",
    " * open the WEBM file\n",
    " * save it as WAV\n",
    " \n",
    "Run the cell."
   ]
  },
  {
   "cell_type": "code",
   "execution_count": 4,
   "metadata": {},
   "outputs": [
    {
     "data": {
      "text/plain": [
       "<_io.BufferedRandom name='audio.wav'>"
      ]
     },
     "execution_count": 4,
     "metadata": {},
     "output_type": "execute_result"
    }
   ],
   "source": [
    "sound = AudioSegment.from_file(filename)\n",
    "\n",
    "sound.export(\"audio.wav\", format=\"wav\", bitrate=\"128k\")"
   ]
  },
  {
   "cell_type": "markdown",
   "metadata": {},
   "source": [
    "Now that we have a WAV file, we use the tools google provide to load these files in a data type Google likes, and we also specify a configuration which states that we want English transcriptions. This improves the transcriptions quality, as now the system know that *Je t'adore* is less likely to occur as *Shut the door*.\n",
    "\n",
    "The first two lines open the file and place all of it's bytes in memory\n",
    "The thirt line converts to a format in which Google can administrate certain relevant information\n",
    "The last line create a configuration of the transcription task and specifies the language.\n",
    "\n",
    "Run the cell."
   ]
  },
  {
   "cell_type": "code",
   "execution_count": 5,
   "metadata": {},
   "outputs": [],
   "source": [
    "with open('audio.wav', 'rb') as audio_file:\n",
    "    content = audio_file.read()\n",
    "\n",
    "audio = types.RecognitionAudio(content=content)\n",
    "config = types.RecognitionConfig( language_code='en-US' )"
   ]
  },
  {
   "cell_type": "markdown",
   "metadata": {},
   "source": [
    "Let's start transcoding. The first line creates a client, sort of a telephone that does the communication with Google.\n",
    "\n",
    "The second line does the hard work, or at least asks Google to do so.\n",
    "\n",
    "Run the cell, **it will result in an error**.\n",
    "\n",
    "Read the message, however cryptic it may seem. What does this error mean?\n",
    "\n",
    " * A) You need to pay for this Google service,\n",
    " * B) You need to make an appointment (rendezvous) with a service agent from Google\n",
    " * C) The audio was too long, and this API only accepts smaller files\n",
    " * D) The transcription service was permanently terminated in 2016, Google now only offers web search and e-mail."
   ]
  },
  {
   "cell_type": "code",
   "execution_count": 6,
   "metadata": {
    "scrolled": true
   },
   "outputs": [
    {
     "ename": "RetryError",
     "evalue": "RetryError(Exception occurred in retry method that was not classified as transient, caused by <_Rendezvous of RPC that terminated with (StatusCode.INVALID_ARGUMENT, Request payload size exceeds the limit: 10485760 bytes.)>)",
     "output_type": "error",
     "traceback": [
      "\u001b[0;31m---------------------------------------------------------------------------\u001b[0m",
      "\u001b[0;31m_Rendezvous\u001b[0m                               Traceback (most recent call last)",
      "\u001b[0;32m~/.virtualenvs/wieling/lib/python3.5/site-packages/google/gax/retry.py\u001b[0m in \u001b[0;36minner\u001b[0;34m(*args)\u001b[0m\n\u001b[1;32m    120\u001b[0m                 \u001b[0mto_call\u001b[0m \u001b[0;34m=\u001b[0m \u001b[0madd_timeout_arg\u001b[0m\u001b[0;34m(\u001b[0m\u001b[0ma_func\u001b[0m\u001b[0;34m,\u001b[0m \u001b[0mtimeout\u001b[0m\u001b[0;34m,\u001b[0m \u001b[0;34m**\u001b[0m\u001b[0mkwargs\u001b[0m\u001b[0;34m)\u001b[0m\u001b[0;34m\u001b[0m\u001b[0m\n\u001b[0;32m--> 121\u001b[0;31m                 \u001b[0;32mreturn\u001b[0m \u001b[0mto_call\u001b[0m\u001b[0;34m(\u001b[0m\u001b[0;34m*\u001b[0m\u001b[0margs\u001b[0m\u001b[0;34m)\u001b[0m\u001b[0;34m\u001b[0m\u001b[0m\n\u001b[0m\u001b[1;32m    122\u001b[0m             \u001b[0;32mexcept\u001b[0m \u001b[0mException\u001b[0m \u001b[0;32mas\u001b[0m \u001b[0mexception\u001b[0m\u001b[0;34m:\u001b[0m  \u001b[0;31m# pylint: disable=broad-except\u001b[0m\u001b[0;34m\u001b[0m\u001b[0m\n",
      "\u001b[0;32m~/.virtualenvs/wieling/lib/python3.5/site-packages/google/gax/retry.py\u001b[0m in \u001b[0;36minner\u001b[0;34m(*args)\u001b[0m\n\u001b[1;32m     67\u001b[0m         \u001b[0mupdated_args\u001b[0m \u001b[0;34m=\u001b[0m \u001b[0margs\u001b[0m \u001b[0;34m+\u001b[0m \u001b[0;34m(\u001b[0m\u001b[0mtimeout\u001b[0m\u001b[0;34m,\u001b[0m\u001b[0;34m)\u001b[0m\u001b[0;34m\u001b[0m\u001b[0m\n\u001b[0;32m---> 68\u001b[0;31m         \u001b[0;32mreturn\u001b[0m \u001b[0ma_func\u001b[0m\u001b[0;34m(\u001b[0m\u001b[0;34m*\u001b[0m\u001b[0mupdated_args\u001b[0m\u001b[0;34m,\u001b[0m \u001b[0;34m**\u001b[0m\u001b[0mkwargs\u001b[0m\u001b[0;34m)\u001b[0m\u001b[0;34m\u001b[0m\u001b[0m\n\u001b[0m\u001b[1;32m     69\u001b[0m \u001b[0;34m\u001b[0m\u001b[0m\n",
      "\u001b[0;32m~/.virtualenvs/wieling/lib/python3.5/site-packages/grpc/_channel.py\u001b[0m in \u001b[0;36m__call__\u001b[0;34m(self, request, timeout, metadata, credentials)\u001b[0m\n\u001b[1;32m    491\u001b[0m                                                credentials)\n\u001b[0;32m--> 492\u001b[0;31m         \u001b[0;32mreturn\u001b[0m \u001b[0m_end_unary_response_blocking\u001b[0m\u001b[0;34m(\u001b[0m\u001b[0mstate\u001b[0m\u001b[0;34m,\u001b[0m \u001b[0mcall\u001b[0m\u001b[0;34m,\u001b[0m \u001b[0;32mFalse\u001b[0m\u001b[0;34m,\u001b[0m \u001b[0mdeadline\u001b[0m\u001b[0;34m)\u001b[0m\u001b[0;34m\u001b[0m\u001b[0m\n\u001b[0m\u001b[1;32m    493\u001b[0m \u001b[0;34m\u001b[0m\u001b[0m\n",
      "\u001b[0;32m~/.virtualenvs/wieling/lib/python3.5/site-packages/grpc/_channel.py\u001b[0m in \u001b[0;36m_end_unary_response_blocking\u001b[0;34m(state, call, with_call, deadline)\u001b[0m\n\u001b[1;32m    439\u001b[0m     \u001b[0;32melse\u001b[0m\u001b[0;34m:\u001b[0m\u001b[0;34m\u001b[0m\u001b[0m\n\u001b[0;32m--> 440\u001b[0;31m         \u001b[0;32mraise\u001b[0m \u001b[0m_Rendezvous\u001b[0m\u001b[0;34m(\u001b[0m\u001b[0mstate\u001b[0m\u001b[0;34m,\u001b[0m \u001b[0;32mNone\u001b[0m\u001b[0;34m,\u001b[0m \u001b[0;32mNone\u001b[0m\u001b[0;34m,\u001b[0m \u001b[0mdeadline\u001b[0m\u001b[0;34m)\u001b[0m\u001b[0;34m\u001b[0m\u001b[0m\n\u001b[0m\u001b[1;32m    441\u001b[0m \u001b[0;34m\u001b[0m\u001b[0m\n",
      "\u001b[0;31m_Rendezvous\u001b[0m: <_Rendezvous of RPC that terminated with (StatusCode.INVALID_ARGUMENT, Request payload size exceeds the limit: 10485760 bytes.)>",
      "\nDuring handling of the above exception, another exception occurred:\n",
      "\u001b[0;31mRetryError\u001b[0m                                Traceback (most recent call last)",
      "\u001b[0;32m<ipython-input-6-48c1f0ca037b>\u001b[0m in \u001b[0;36m<module>\u001b[0;34m()\u001b[0m\n\u001b[1;32m      1\u001b[0m \u001b[0mclient\u001b[0m \u001b[0;34m=\u001b[0m \u001b[0mspeech\u001b[0m\u001b[0;34m.\u001b[0m\u001b[0mSpeechClient\u001b[0m\u001b[0;34m(\u001b[0m\u001b[0;34m)\u001b[0m\u001b[0;34m\u001b[0m\u001b[0m\n\u001b[1;32m      2\u001b[0m \u001b[0;34m\u001b[0m\u001b[0m\n\u001b[0;32m----> 3\u001b[0;31m \u001b[0mresponse\u001b[0m \u001b[0;34m=\u001b[0m \u001b[0mclient\u001b[0m\u001b[0;34m.\u001b[0m\u001b[0mrecognize\u001b[0m\u001b[0;34m(\u001b[0m\u001b[0mconfig\u001b[0m\u001b[0;34m,\u001b[0m \u001b[0maudio\u001b[0m\u001b[0;34m)\u001b[0m\u001b[0;34m\u001b[0m\u001b[0m\n\u001b[0m",
      "\u001b[0;32m~/.virtualenvs/wieling/lib/python3.5/site-packages/google/cloud/gapic/speech/v1/speech_client.py\u001b[0m in \u001b[0;36mrecognize\u001b[0;34m(self, config, audio, options)\u001b[0m\n\u001b[1;32m    199\u001b[0m         \"\"\"\n\u001b[1;32m    200\u001b[0m         \u001b[0mrequest\u001b[0m \u001b[0;34m=\u001b[0m \u001b[0mcloud_speech_pb2\u001b[0m\u001b[0;34m.\u001b[0m\u001b[0mRecognizeRequest\u001b[0m\u001b[0;34m(\u001b[0m\u001b[0mconfig\u001b[0m\u001b[0;34m=\u001b[0m\u001b[0mconfig\u001b[0m\u001b[0;34m,\u001b[0m \u001b[0maudio\u001b[0m\u001b[0;34m=\u001b[0m\u001b[0maudio\u001b[0m\u001b[0;34m)\u001b[0m\u001b[0;34m\u001b[0m\u001b[0m\n\u001b[0;32m--> 201\u001b[0;31m         \u001b[0;32mreturn\u001b[0m \u001b[0mself\u001b[0m\u001b[0;34m.\u001b[0m\u001b[0m_recognize\u001b[0m\u001b[0;34m(\u001b[0m\u001b[0mrequest\u001b[0m\u001b[0;34m,\u001b[0m \u001b[0moptions\u001b[0m\u001b[0;34m)\u001b[0m\u001b[0;34m\u001b[0m\u001b[0m\n\u001b[0m\u001b[1;32m    202\u001b[0m \u001b[0;34m\u001b[0m\u001b[0m\n\u001b[1;32m    203\u001b[0m     \u001b[0;32mdef\u001b[0m \u001b[0mlong_running_recognize\u001b[0m\u001b[0;34m(\u001b[0m\u001b[0mself\u001b[0m\u001b[0;34m,\u001b[0m \u001b[0mconfig\u001b[0m\u001b[0;34m,\u001b[0m \u001b[0maudio\u001b[0m\u001b[0;34m,\u001b[0m \u001b[0moptions\u001b[0m\u001b[0;34m=\u001b[0m\u001b[0;32mNone\u001b[0m\u001b[0;34m)\u001b[0m\u001b[0;34m:\u001b[0m\u001b[0;34m\u001b[0m\u001b[0m\n",
      "\u001b[0;32m~/.virtualenvs/wieling/lib/python3.5/site-packages/google/gax/api_callable.py\u001b[0m in \u001b[0;36minner\u001b[0;34m(request, options)\u001b[0m\n\u001b[1;32m    450\u001b[0m                 func, this_settings.timeout, **this_settings.kwargs)\n\u001b[1;32m    451\u001b[0m         \u001b[0mapi_call\u001b[0m \u001b[0;34m=\u001b[0m \u001b[0m_catch_errors\u001b[0m\u001b[0;34m(\u001b[0m\u001b[0mapi_call\u001b[0m\u001b[0;34m,\u001b[0m \u001b[0mgax\u001b[0m\u001b[0;34m.\u001b[0m\u001b[0mconfig\u001b[0m\u001b[0;34m.\u001b[0m\u001b[0mAPI_ERRORS\u001b[0m\u001b[0;34m)\u001b[0m\u001b[0;34m\u001b[0m\u001b[0m\n\u001b[0;32m--> 452\u001b[0;31m         \u001b[0;32mreturn\u001b[0m \u001b[0mapi_caller\u001b[0m\u001b[0;34m(\u001b[0m\u001b[0mapi_call\u001b[0m\u001b[0;34m,\u001b[0m \u001b[0mthis_settings\u001b[0m\u001b[0;34m,\u001b[0m \u001b[0mrequest\u001b[0m\u001b[0;34m)\u001b[0m\u001b[0;34m\u001b[0m\u001b[0m\n\u001b[0m\u001b[1;32m    453\u001b[0m \u001b[0;34m\u001b[0m\u001b[0m\n\u001b[1;32m    454\u001b[0m     \u001b[0;32mif\u001b[0m \u001b[0msettings\u001b[0m\u001b[0;34m.\u001b[0m\u001b[0mpage_descriptor\u001b[0m\u001b[0;34m:\u001b[0m\u001b[0;34m\u001b[0m\u001b[0m\n",
      "\u001b[0;32m~/.virtualenvs/wieling/lib/python3.5/site-packages/google/gax/api_callable.py\u001b[0m in \u001b[0;36mbase_caller\u001b[0;34m(api_call, _, *args)\u001b[0m\n\u001b[1;32m    436\u001b[0m     \u001b[0;32mdef\u001b[0m \u001b[0mbase_caller\u001b[0m\u001b[0;34m(\u001b[0m\u001b[0mapi_call\u001b[0m\u001b[0;34m,\u001b[0m \u001b[0m_\u001b[0m\u001b[0;34m,\u001b[0m \u001b[0;34m*\u001b[0m\u001b[0margs\u001b[0m\u001b[0;34m)\u001b[0m\u001b[0;34m:\u001b[0m\u001b[0;34m\u001b[0m\u001b[0m\n\u001b[1;32m    437\u001b[0m         \u001b[0;34m\"\"\"Simply call api_call and ignore settings.\"\"\"\u001b[0m\u001b[0;34m\u001b[0m\u001b[0m\n\u001b[0;32m--> 438\u001b[0;31m         \u001b[0;32mreturn\u001b[0m \u001b[0mapi_call\u001b[0m\u001b[0;34m(\u001b[0m\u001b[0;34m*\u001b[0m\u001b[0margs\u001b[0m\u001b[0;34m)\u001b[0m\u001b[0;34m\u001b[0m\u001b[0m\n\u001b[0m\u001b[1;32m    439\u001b[0m \u001b[0;34m\u001b[0m\u001b[0m\n\u001b[1;32m    440\u001b[0m     \u001b[0;32mdef\u001b[0m \u001b[0minner\u001b[0m\u001b[0;34m(\u001b[0m\u001b[0mrequest\u001b[0m\u001b[0;34m,\u001b[0m \u001b[0moptions\u001b[0m\u001b[0;34m=\u001b[0m\u001b[0;32mNone\u001b[0m\u001b[0;34m)\u001b[0m\u001b[0;34m:\u001b[0m\u001b[0;34m\u001b[0m\u001b[0m\n",
      "\u001b[0;32m~/.virtualenvs/wieling/lib/python3.5/site-packages/google/gax/api_callable.py\u001b[0m in \u001b[0;36minner\u001b[0;34m(*args, **kwargs)\u001b[0m\n\u001b[1;32m    374\u001b[0m         \u001b[0;34m\"\"\"Wraps specified exceptions\"\"\"\u001b[0m\u001b[0;34m\u001b[0m\u001b[0m\n\u001b[1;32m    375\u001b[0m         \u001b[0;32mtry\u001b[0m\u001b[0;34m:\u001b[0m\u001b[0;34m\u001b[0m\u001b[0m\n\u001b[0;32m--> 376\u001b[0;31m             \u001b[0;32mreturn\u001b[0m \u001b[0ma_func\u001b[0m\u001b[0;34m(\u001b[0m\u001b[0;34m*\u001b[0m\u001b[0margs\u001b[0m\u001b[0;34m,\u001b[0m \u001b[0;34m**\u001b[0m\u001b[0mkwargs\u001b[0m\u001b[0;34m)\u001b[0m\u001b[0;34m\u001b[0m\u001b[0m\n\u001b[0m\u001b[1;32m    377\u001b[0m         \u001b[0;31m# pylint: disable=catching-non-exception\u001b[0m\u001b[0;34m\u001b[0m\u001b[0;34m\u001b[0m\u001b[0m\n\u001b[1;32m    378\u001b[0m         \u001b[0;32mexcept\u001b[0m \u001b[0mtuple\u001b[0m\u001b[0;34m(\u001b[0m\u001b[0mto_catch\u001b[0m\u001b[0;34m)\u001b[0m \u001b[0;32mas\u001b[0m \u001b[0mexception\u001b[0m\u001b[0;34m:\u001b[0m\u001b[0;34m\u001b[0m\u001b[0m\n",
      "\u001b[0;32m~/.virtualenvs/wieling/lib/python3.5/site-packages/google/gax/retry.py\u001b[0m in \u001b[0;36minner\u001b[0;34m(*args)\u001b[0m\n\u001b[1;32m    125\u001b[0m                     raise errors.RetryError(\n\u001b[1;32m    126\u001b[0m                         \u001b[0;34m'Exception occurred in retry method that was not'\u001b[0m\u001b[0;34m\u001b[0m\u001b[0m\n\u001b[0;32m--> 127\u001b[0;31m                         ' classified as transient', exception)\n\u001b[0m\u001b[1;32m    128\u001b[0m \u001b[0;34m\u001b[0m\u001b[0m\n\u001b[1;32m    129\u001b[0m                 exc = errors.RetryError(\n",
      "\u001b[0;31mRetryError\u001b[0m: RetryError(Exception occurred in retry method that was not classified as transient, caused by <_Rendezvous of RPC that terminated with (StatusCode.INVALID_ARGUMENT, Request payload size exceeds the limit: 10485760 bytes.)>)"
     ]
    }
   ],
   "source": [
    "client = speech.SpeechClient()\n",
    "\n",
    "response = client.recognize(config, audio)"
   ]
  },
  {
   "cell_type": "markdown",
   "metadata": {},
   "source": [
    "An important part of programming is failing. No code was ever right the first time and most code isn't even right in the final version. `github.com` is a place to distribute software, but also register softare bugs and manage solutions. Browse some of the issues there and you'll get the point (or not browse the site, and trust me on this)\n",
    "\n",
    "This issue is with the file length, it's too large as Google only allows 60 seconds. So let's extract **the first 30 seconds** and try again.\n",
    "\n",
    "To extract a time slice, the syntax is `[ start_in_miliseconds : end_in_miliseconds ]`, if you leave out the start, it starts from the beginning. Leaving the end out means \n",
    "\n",
    "Choose the correct line out of the 4 starting with `#`, then run the cell. Choose it by removing the `#`, *unchoose* it by recovering the `#`.\n",
    "\n",
    "Note, a `#` in front of a line means 'ignore it' for the computer. This way you can disable code or add comments.\n",
    "\n",
    "Run the 4 cells to test it."
   ]
  },
  {
   "cell_type": "code",
   "execution_count": 7,
   "metadata": {},
   "outputs": [
    {
     "data": {
      "text/plain": [
       "<_io.BufferedRandom name='audio.wav'>"
      ]
     },
     "execution_count": 7,
     "metadata": {},
     "output_type": "execute_result"
    }
   ],
   "source": [
    "sound = AudioSegment.from_file(filename)\n",
    "\n",
    "### Select one of these 4 options by removing the #:\n",
    "#sound = sound[:30]\n",
    "#sound = sound[30*1000:]\n",
    "sound = sound[0 : 30*1000]\n",
    "#sound = sound[30:]\n",
    "\n",
    "# Some youtube videos have multiple channels, for example two such that it's stereo and not mono.\n",
    "# Google can only transcribe to one channel at a time. This line selects the first channel, and\n",
    "# ignores all other if they exist.\n",
    "\n",
    "sound = sound.split_to_mono()[0]\n",
    "\n",
    "sound.export(\"audio.wav\", format=\"wav\", bitrate=\"128k\")"
   ]
  },
  {
   "cell_type": "code",
   "execution_count": 8,
   "metadata": {},
   "outputs": [],
   "source": [
    "with open('audio.wav', 'rb') as audio_file:\n",
    "    content = audio_file.read()\n",
    "\n",
    "audio = types.RecognitionAudio(content=content)\n",
    "config = types.RecognitionConfig( language_code='en-US' )"
   ]
  },
  {
   "cell_type": "code",
   "execution_count": 9,
   "metadata": {},
   "outputs": [],
   "source": [
    "client = speech.SpeechClient()\n",
    "\n",
    "response = client.recognize(config, audio)"
   ]
  },
  {
   "cell_type": "code",
   "execution_count": 10,
   "metadata": {},
   "outputs": [
    {
     "data": {
      "text/plain": [
       "results {\n",
       "  alternatives {\n",
       "    transcript: \"people keep asking me questions about life summarized the questions are why how it worked and I always tell them these are the words the teenage poetry albums\"\n",
       "    confidence: 0.9000371694564819\n",
       "  }\n",
       "}\n",
       "results {\n",
       "  alternatives {\n",
       "    transcript: \" but you have to face the teenagers like coffee and that\\'s a the stock market of things that wants\"\n",
       "    confidence: 0.9185096621513367\n",
       "  }\n",
       "}"
      ]
     },
     "execution_count": 10,
     "metadata": {},
     "output_type": "execute_result"
    }
   ],
   "source": [
    "response"
   ]
  },
  {
   "cell_type": "markdown",
   "metadata": {},
   "source": [
    "The result is a transcript and the confidence Google had. Feel free to try to do the same for a different video, make sure it contains speech."
   ]
  },
  {
   "cell_type": "markdown",
   "metadata": {},
   "source": [
    "# Advanced\n",
    "\n",
    "\n",
    "Let's try to structurally extract each 30-second interval of the video, and transcribe it. For this we have a `for`-loop. It would be better to use the Google streaming version of the API, which allows longer audio clips, as the transcription will be done wholistic. The one below will not\n",
    "\n",
    "The `for`-loop runs the code inside multiple times, below it is set to iterate through all the 30-second intervals of the video.\n",
    "\n",
    "Replace `None` with the correct expression using `start` and `end`."
   ]
  },
  {
   "cell_type": "code",
   "execution_count": null,
   "metadata": {},
   "outputs": [],
   "source": [
    "sound = AudioSegment.from_file(filename)\n",
    "sound = sound.split_to_mono()[0]\n",
    "\n",
    "client = speech.SpeechClient()\n",
    "response = None\n",
    "\n",
    "for start, end in zip(\n",
    "    range(0, len(sound), 30 * 1000),\n",
    "    range(30 * 1000, len(sound), 30 * 1000)\n",
    "):\n",
    "    print(\"Start:\", start, \", end:\", end)\n",
    "    \n",
    "    \n",
    "    sound_piece = None # replace None with the right interval.\n",
    "    sound_piece = sound[start: end]\n",
    "    \n",
    "    \n",
    "    sound_piece.export(\"audio.wav\", format=\"wav\", bitrate=\"128k\")\n",
    "    \n",
    "    with open('audio.wav', 'rb') as audio_file:\n",
    "        content = audio_file.read()\n",
    "\n",
    "    audio = types.RecognitionAudio(content=content)\n",
    "    config = types.RecognitionConfig( language_code='en-US' )\n",
    "\n",
    "    response = client.recognize(config, audio)\n",
    "    print(response)"
   ]
  }
 ],
 "metadata": {
  "kernelspec": {
   "display_name": "Python 3",
   "language": "python",
   "name": "python3"
  },
  "language_info": {
   "codemirror_mode": {
    "name": "ipython",
    "version": 3
   },
   "file_extension": ".py",
   "mimetype": "text/x-python",
   "name": "python",
   "nbconvert_exporter": "python",
   "pygments_lexer": "ipython3",
   "version": "3.5.2"
  }
 },
 "nbformat": 4,
 "nbformat_minor": 2
}
